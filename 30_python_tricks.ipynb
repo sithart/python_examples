{
 "cells": [
  {
   "cell_type": "code",
   "execution_count": 6,
   "metadata": {},
   "outputs": [
    {
     "name": "stdout",
     "output_type": "stream",
     "text": [
      "[2, 4]\n",
      "[2, 6, 10, 14]\n",
      "[0, 2, 4, 6, 8]\n",
      "[18, 20]\n",
      "[0, 2, 4, 6, 8, 10, 12, 14, 16, 18, 20]\n"
     ]
    }
   ],
   "source": [
    "# 1. Slice a Sequence\n",
    "a = [0, 2, 4, 6, 8, 10, 12, 14, 16, 18, 20]\n",
    "print(a[1:3])\n",
    "print(a[1:9:2])\n",
    "print(a[:5])\n",
    "print(a[9:])\n",
    "print(a[:])"
   ]
  },
  {
   "cell_type": "code",
   "execution_count": 8,
   "metadata": {},
   "outputs": [
    {
     "name": "stdout",
     "output_type": "stream",
     "text": [
      "(5, 4, 3, 2, 1)\n",
      "nahtrahtis\n"
     ]
    }
   ],
   "source": [
    "# 2. Reverse a Sequence\n",
    "a = (1, 2, 3, 4, 5)\n",
    "b = 'sitharthan'\n",
    "print(a[::-1])\n",
    "print(b[::-1])"
   ]
  },
  {
   "cell_type": "code",
   "execution_count": 10,
   "metadata": {},
   "outputs": [
    {
     "name": "stdout",
     "output_type": "stream",
     "text": [
      "!\n",
      "orld\n"
     ]
    }
   ],
   "source": [
    "# 3. Access an Element in a Sequence Using the Reverse Index\n",
    "a = 'Hello World!'\n",
    "print(a[-1])\n",
    "print(a[-5:-1])"
   ]
  },
  {
   "cell_type": "code",
   "execution_count": 12,
   "metadata": {},
   "outputs": [
    {
     "name": "stdout",
     "output_type": "stream",
     "text": [
      "a is 8; b is 5\n",
      "[5, 2, 3, 4, 1]\n"
     ]
    }
   ],
   "source": [
    "# 4. Multiple Assignments\n",
    "a, b = 8, 5\n",
    "print(f'a is {a}; b is {b}')\n",
    "numbers = [1, 2, 3, 4, 5]\n",
    "numbers[0], numbers[-1] = numbers[-1], numbers[0]\n",
    "print(numbers)"
   ]
  },
  {
   "cell_type": "code",
   "execution_count": 13,
   "metadata": {},
   "outputs": [
    {
     "name": "stdout",
     "output_type": "stream",
     "text": [
      "Do something with the <class 'tuple'>\n",
      "Do something with the <class 'str'>\n",
      "Do something with the <class 'list'>\n",
      "Do something with the <class 'dict'>\n",
      "Do something with the <class 'set'>\n"
     ]
    }
   ],
   "source": [
    "# 5. Check if a Sequence Is Empty\n",
    "empty_list = [(), '', [], {}, set()]\n",
    "for item in empty_list:\n",
    "    if not item:\n",
    "        print(f'Do something with the {type(item)}')"
   ]
  },
  {
   "cell_type": "code",
   "execution_count": 16,
   "metadata": {},
   "outputs": [
    {
     "data": {
      "text/plain": [
       "[6, 12]"
      ]
     },
     "execution_count": 16,
     "metadata": {},
     "output_type": "execute_result"
    }
   ],
   "source": [
    "# 6. List Comprehensions\n",
    "a = [1, 2, 3, 4, 5]\n",
    "[x*2 for x in a]\n",
    "[x*3 for x in a if x%2 == 1]\n",
    "[x*3 for x in a if x%2 == 0]"
   ]
  },
  {
   "cell_type": "code",
   "execution_count": 17,
   "metadata": {},
   "outputs": [
    {
     "data": {
      "text/plain": [
       "{1, 4, 9, 16, 25}"
      ]
     },
     "execution_count": 17,
     "metadata": {},
     "output_type": "execute_result"
    }
   ],
   "source": [
    "# 7. Set Comprehensions\n",
    "a = [1, -2, 2, -3, 3, 4, 4, 5, 5, 5]\n",
    "{x*x for x in a}"
   ]
  },
  {
   "cell_type": "code",
   "execution_count": 18,
   "metadata": {},
   "outputs": [
    {
     "data": {
      "text/plain": [
       "{1: 1, 2: 4, 3: 9, 4: 16, 5: 25}"
      ]
     },
     "execution_count": 18,
     "metadata": {},
     "output_type": "execute_result"
    }
   ],
   "source": [
    "# 8. Dict Comprehensions\n",
    "a = [1, 2, 3, 4, 5]\n",
    "{x: x*x for x in a}"
   ]
  },
  {
   "cell_type": "code",
   "execution_count": 21,
   "metadata": {},
   "outputs": [
    {
     "data": {
      "text/plain": [
       "9801"
      ]
     },
     "execution_count": 21,
     "metadata": {},
     "output_type": "execute_result"
    }
   ],
   "source": [
    "# 9. Generator Expression\n",
    "sum(x**2 for x in range(100))\n",
    "max(x**2 for x in range(100))"
   ]
  },
  {
   "cell_type": "code",
   "execution_count": 25,
   "metadata": {},
   "outputs": [
    {
     "name": "stdout",
     "output_type": "stream",
     "text": [
      "zero\n",
      "['b', 'one', 10, 11]\n",
      "11\n"
     ]
    }
   ],
   "source": [
    "# 10. Unpack a Tuple\n",
    "items = (0, 'b', 'one', 10, 11, 'zero')\n",
    "a, b, c, d, e, f = items\n",
    "print(f)\n",
    "a, *b, c = items\n",
    "print(b)\n",
    "*_, a, b = items\n",
    "print(a)"
   ]
  },
  {
   "cell_type": "code",
   "execution_count": 28,
   "metadata": {},
   "outputs": [
    {
     "name": "stdout",
     "output_type": "stream",
     "text": [
      "Iteration: 0, Student: John\n",
      "Iteration: 1, Student: Mary\n",
      "Iteration: 2, Student: Mike\n",
      "ID: 35001, Student: John\n",
      "ID: 35002, Student: Mary\n",
      "ID: 35003, Student: Mike\n"
     ]
    }
   ],
   "source": [
    "# 11. Use Enumerate() In for Loops\n",
    "students = ('John', 'Mary', 'Mike')\n",
    "for i, student in enumerate(students):\n",
    "    print(f'Iteration: {i}, Student: {student}')\n",
    "    \n",
    "for i, student in enumerate(students, 35001):\n",
    "    print(f'ID: {i}, Student: {student}')"
   ]
  },
  {
   "cell_type": "code",
   "execution_count": 30,
   "metadata": {},
   "outputs": [
    {
     "name": "stdout",
     "output_type": "stream",
     "text": [
      "cooking\n",
      "gardening\n",
      "picking up kids\n",
      "laundry\n"
     ]
    }
   ],
   "source": [
    "# 12. Use Reversed() In for Loops\n",
    "tasks = ['laundry', 'picking up kids', 'gardening', 'cooking']\n",
    "for task in reversed(tasks):\n",
    "    print(task)"
   ]
  },
  {
   "cell_type": "code",
   "execution_count": 32,
   "metadata": {},
   "outputs": [
    {
     "name": "stdout",
     "output_type": "stream",
     "text": [
      "John, age: 15, score: 90\n",
      "Mary, age: 17, score: 88\n",
      "Mike, age: 16, score: 82\n"
     ]
    }
   ],
   "source": [
    "# 13. The Zip() Function\n",
    "students = ('John', 'Mary', 'Mike')\n",
    "ages = (15, 17, 16)\n",
    "scores = (90, 88, 82, 17, 14)\n",
    "for student, age, score in zip(students, ages, scores):\n",
    "    print(f'{student}, age: {age}, score: {score}')"
   ]
  },
  {
   "cell_type": "code",
   "execution_count": 33,
   "metadata": {},
   "outputs": [
    {
     "data": {
      "text/plain": [
       "[{'name': 'Mike', 'score': 94},\n",
       " {'name': 'John', 'score': 98},\n",
       " {'name': 'Jennifer', 'score': 99}]"
      ]
     },
     "execution_count": 33,
     "metadata": {},
     "output_type": "execute_result"
    }
   ],
   "source": [
    "# 14. Lambdas for Sorting\n",
    "students = [{'name': 'John', 'score': 98}, {'name': 'Mike', 'score': 94}, {'name': 'Jennifer', 'score': 99}]\n",
    "sorted(students, key=lambda x: x['score'])"
   ]
  },
  {
   "cell_type": "code",
   "execution_count": 35,
   "metadata": {},
   "outputs": [
    {
     "name": "stdout",
     "output_type": "stream",
     "text": [
      "x is 5\n",
      "x is 3\n"
     ]
    }
   ],
   "source": [
    "# 15. Shorthand Conditional Assignment\n",
    "some_condition = True\n",
    "if some_condition:\n",
    "    x = 5\n",
    "else:\n",
    "    x = 3\n",
    "print(f'x is {x}')\n",
    "x = 3 if some_condition else 5\n",
    "print(f'x is {x}')"
   ]
  },
  {
   "cell_type": "code",
   "execution_count": 37,
   "metadata": {},
   "outputs": [
    {
     "name": "stdout",
     "output_type": "stream",
     "text": [
      "The tuple contains one\n",
      "The dic has the key of 2\n"
     ]
    }
   ],
   "source": [
    "# 16. Membership Testing in a Collection\n",
    "a = ('one', 'two', 'three', 'four', 'five')\n",
    "if 'one' in a :\n",
    "    print('The tuple contains one')\n",
    "b = {0: 'zero', 1: 'one', 2: 'two', 3: 'three'}\n",
    "if 2 in b.keys():\n",
    "    print('The dic has the key of 2')"
   ]
  },
  {
   "cell_type": "code",
   "execution_count": 43,
   "metadata": {},
   "outputs": [
    {
     "data": {
      "text/plain": [
       "'Five'"
      ]
     },
     "execution_count": 43,
     "metadata": {},
     "output_type": "execute_result"
    }
   ],
   "source": [
    "# 17. Use Get() to Retrieve a Value in a Dictionary\n",
    "number_dict = {0: 'zero', 1: 'one', 2: 'two', 3: 'three'}\n",
    "# number_dict[5]\n",
    "number_dict.get(5, 'Five')"
   ]
  },
  {
   "cell_type": "code",
   "execution_count": 50,
   "metadata": {},
   "outputs": [
    {
     "data": {
      "text/plain": [
       "'model_z'"
      ]
     },
     "execution_count": 50,
     "metadata": {},
     "output_type": "execute_result"
    }
   ],
   "source": [
    "# 18. Get the Key Whose Value Is Maximal in a Dictionary\n",
    "model_scores = {'model_a': 100, 'model_z': 198, 'model_t': 150}\n",
    "keys, values = list(model_scores.keys()), list(model_scores.values())\n",
    "keys[values.index(max(values))]\n",
    "max(model_scores, key=model_scores.get)"
   ]
  },
  {
   "cell_type": "code",
   "execution_count": 54,
   "metadata": {},
   "outputs": [
    {
     "name": "stdout",
     "output_type": "stream",
     "text": [
      "0, 1, 2, 3, 4\n",
      "0 & 0, 1 & 1, 2 & 4, 3 & 9, 4 & 16\n"
     ]
    }
   ],
   "source": [
    "# 19. Debug With the Print() Function\n",
    "for i in range(5):\n",
    "    print(i, end=', ' if i < 4 else '\\n')\n",
    "for i in range(5):\n",
    "    print(f'{i} & {i*i}', end=', ' if i < 4 else '\\n')"
   ]
  },
  {
   "cell_type": "code",
   "execution_count": 56,
   "metadata": {},
   "outputs": [],
   "source": [
    "# 20. Walrus Operator\n",
    "# a = ['j', 'a', 'k', 'd', 'c']\n",
    "# if (n := len(a))%2 == 1:\n",
    "#     print(f'The number of letters is {n}, which is odd.')"
   ]
  },
  {
   "cell_type": "code",
   "execution_count": 68,
   "metadata": {},
   "outputs": [
    {
     "data": {
      "text/plain": [
       "['this is, a python, tutorial', 'about', 'idioms.']"
      ]
     },
     "execution_count": 68,
     "metadata": {},
     "output_type": "execute_result"
    }
   ],
   "source": [
    "# 21. Split a String\n",
    "sentence = 'this is, a python, tutorial, about, idioms.'\n",
    "sentence.split(', ')\n",
    "sentence.split(', ', 2)\n",
    "sentence.rsplit(', ')\n",
    "sentence.rsplit(', ', 2)"
   ]
  },
  {
   "cell_type": "code",
   "execution_count": 70,
   "metadata": {},
   "outputs": [
    {
     "data": {
      "text/plain": [
       "'zero&one&two&three'"
      ]
     },
     "execution_count": 70,
     "metadata": {},
     "output_type": "execute_result"
    }
   ],
   "source": [
    "# 22. Join Strings in an Iterable\n",
    "words = ('Hello', 'Python', 'Programmers')\n",
    "'!'.join(words)\n",
    "words_dict = {0: 'zero', 1: 'one', 2: 'two', 3: 'three'}\n",
    "'&'.join(words_dict.values())"
   ]
  },
  {
   "cell_type": "code",
   "execution_count": 72,
   "metadata": {},
   "outputs": [
    {
     "data": {
      "text/plain": [
       "[1, 2, 2.0, 36]"
      ]
     },
     "execution_count": 72,
     "metadata": {},
     "output_type": "execute_result"
    }
   ],
   "source": [
    "# 23. The Map() Function\n",
    "numbers = (1, 2, 4, 6)\n",
    "indices = (2, 1, 0.5, 2)\n",
    "list(map(pow, numbers, indices))\n",
    "[pow(x, y) for x, y in zip(numbers, indices)]"
   ]
  },
  {
   "cell_type": "code",
   "execution_count": 77,
   "metadata": {},
   "outputs": [
    {
     "data": {
      "text/plain": [
       "['Presentation', 'preschool']"
      ]
     },
     "execution_count": 77,
     "metadata": {},
     "output_type": "execute_result"
    }
   ],
   "source": [
    "# 24. The Filter() Function\n",
    "def good_word(x: str):\n",
    "    has_vowels = not set('aeiou').isdisjoint(x.lower())\n",
    "    long_enough = len(x) > 7\n",
    "    good_start = x.lower().startswith('pre')\n",
    "    return has_vowels & long_enough & good_start\n",
    "words = ['Good', 'Presentation', 'preschool', 'prefix']\n",
    "list(filter(good_word, words))"
   ]
  },
  {
   "cell_type": "code",
   "execution_count": 78,
   "metadata": {},
   "outputs": [
    {
     "data": {
      "text/plain": [
       "'Billy'"
      ]
     },
     "execution_count": 78,
     "metadata": {},
     "output_type": "execute_result"
    }
   ],
   "source": [
    "# 25. Find Out the Most Frequent Element in a List\n",
    "winnings = ['John', 'Billy', 'Billy', 'Sam', 'Billy', 'John']\n",
    "max(set(winnings), key = winnings.count)"
   ]
  },
  {
   "cell_type": "code",
   "execution_count": 81,
   "metadata": {},
   "outputs": [
    {
     "data": {
      "text/plain": [
       "[('Billy', 3), ('John', 2), ('Sam', 1)]"
      ]
     },
     "execution_count": 81,
     "metadata": {},
     "output_type": "execute_result"
    }
   ],
   "source": [
    "# 26. Track the Frequencies of the Elements in a List\n",
    "winnings = ['John', 'Billy', 'Billy', 'Sam', 'Billy', 'John']\n",
    "tracked = {item: winnings.count(item) for item in set(winnings)}\n",
    "sorted(tracked.items(), key=lambda x: x[1], reverse=True)"
   ]
  },
  {
   "cell_type": "code",
   "execution_count": 83,
   "metadata": {},
   "outputs": [
    {
     "name": "stdout",
     "output_type": "stream",
     "text": [
      "do something with an int\n",
      "do something with an int or float\n"
     ]
    }
   ],
   "source": [
    "# 27. Check the Type of an Object\n",
    "def check_type(number):\n",
    "    if type(number) == int:\n",
    "        print('do something with an int')\n",
    "    if isinstance(number, (int, float)):\n",
    "        print('do something with an int or float')\n",
    "check_type(5)"
   ]
  },
  {
   "cell_type": "code",
   "execution_count": 86,
   "metadata": {},
   "outputs": [
    {
     "name": "stdout",
     "output_type": "stream",
     "text": [
      "[False, False, True, False, False]\n"
     ]
    },
    {
     "data": {
      "text/plain": [
       "True"
      ]
     },
     "execution_count": 86,
     "metadata": {},
     "output_type": "execute_result"
    }
   ],
   "source": [
    "# 28. The Any() Function\n",
    "arrival_hours = {'Mon': 8.5, 'Tue': 8.75, 'Wed': 9, 'Thu': 8.5, 'Fri': 8.5}\n",
    "arrival_checks = [x>8.75 for x in arrival_hours.values()]\n",
    "print(arrival_checks)\n",
    "any(arrival_checks)\n"
   ]
  },
  {
   "cell_type": "code",
   "execution_count": 89,
   "metadata": {},
   "outputs": [
    {
     "data": {
      "text/plain": [
       "True"
      ]
     },
     "execution_count": 89,
     "metadata": {},
     "output_type": "execute_result"
    }
   ],
   "source": [
    "# 29. The All() Function\n",
    "arrival_hours = {'Mon': 8.5, 'Tue': 8.75, 'Wed': 9, 'Thu': 8.5, 'Fri': 8.5}\n",
    "arrival_checks_all = [x<9.5 for x in arrival_hours.values()]\n",
    "all(arrival_checks_all)"
   ]
  },
  {
   "cell_type": "code",
   "execution_count": 91,
   "metadata": {},
   "outputs": [],
   "source": [
    "# 30. Use the With Keyword on a File\n",
    "# with open('a_file.txt') as file:\n",
    "#     pass\n",
    "# file.closed"
   ]
  }
 ],
 "metadata": {
  "kernelspec": {
   "display_name": "Python 3",
   "language": "python",
   "name": "python3"
  },
  "language_info": {
   "codemirror_mode": {
    "name": "ipython",
    "version": 3
   },
   "file_extension": ".py",
   "mimetype": "text/x-python",
   "name": "python",
   "nbconvert_exporter": "python",
   "pygments_lexer": "ipython3",
   "version": "3.7.7"
  }
 },
 "nbformat": 4,
 "nbformat_minor": 4
}
