{
 "cells": [
  {
   "cell_type": "code",
   "execution_count": null,
   "metadata": {},
   "outputs": [],
   "source": [
    "# Update the key & value pair dynamically in a dictionary\n",
    "#Method-1\n",
    "import os\n",
    "import datetime\n",
    "\n",
    "\n",
    "class my_dictionary(dict):\n",
    "\n",
    "    # __init__ function\n",
    "    def __init__(self):\n",
    "        self = dict()\n",
    "\n",
    "    # Function to add key:value\n",
    "    def add(self, key, value):\n",
    "        self[key] = value\n",
    "\n",
    "\n",
    "dict_obj = my_dictionary()\n",
    "for subdir, dirs, files in os.walk(r'/home/sitharth/Downloads'):\n",
    "    local_directory = {}\n",
    "    for filename in files:\n",
    "        filepath = subdir + os.sep + filename\n",
    "        modTimesinceEpoc = os.path.getmtime(filepath)\n",
    "        modificationTime = datetime.datetime.utcfromtimestamp(modTimesinceEpoc).strftime('%Y-%m-%d %H:%M:%S')\n",
    "        dict_obj.add(filename, modificationTime)\n",
    "\n",
    "print(dict_obj)\n"
   ]
  },
  {
   "cell_type": "code",
   "execution_count": null,
   "metadata": {},
   "outputs": [],
   "source": [
    "#Method -2\n",
    "# Use the __setitem__\n",
    "import os\n",
    "import datetime\n",
    "\n",
    "internal = {}\n",
    "for subdir, dirs, files in os.walk(r'/home/sitharth/Downloads'):\n",
    "    local_directory = {}\n",
    "    for filename in files:\n",
    "        filepath = subdir + os.sep + filename\n",
    "        modTimesinceEpoc = os.path.getmtime(filepath)\n",
    "        modificationTime = datetime.datetime.utcfromtimestamp(modTimesinceEpoc).strftime('%Y-%m-%d %H:%M:%S')\n",
    "        internal.__setitem__(filename, modificationTime)\n",
    "\n",
    "print(internal)\n"
   ]
  }
 ],
 "metadata": {
  "kernelspec": {
   "display_name": "Python 3",
   "language": "python",
   "name": "python3"
  },
  "language_info": {
   "codemirror_mode": {
    "name": "ipython",
    "version": 3
   },
   "file_extension": ".py",
   "mimetype": "text/x-python",
   "name": "python",
   "nbconvert_exporter": "python",
   "pygments_lexer": "ipython3",
   "version": "3.6.10"
  }
 },
 "nbformat": 4,
 "nbformat_minor": 2
}
