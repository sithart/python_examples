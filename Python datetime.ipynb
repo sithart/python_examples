{
 "cells": [
  {
   "cell_type": "code",
   "execution_count": 4,
   "metadata": {},
   "outputs": [
    {
     "name": "stdout",
     "output_type": "stream",
     "text": [
      "2020-06-02 10:43:53.083938\n",
      "2020-06-02\n",
      "2019-04-13\n",
      "2019-04-13\n",
      "Current date = 2020-06-02\n",
      "Date = 2020-03-28\n",
      "Current year: 2020\n",
      "Current month: 6\n",
      "Current day: 2\n",
      "a = 00:00:00\n",
      "b = 11:34:56\n",
      "c = 11:34:56\n",
      "d = 11:34:56.234566\n"
     ]
    }
   ],
   "source": [
    "# Get Current Date and Time\n",
    "import datetime\n",
    "\n",
    "datetime_object = datetime.datetime.now()\n",
    "print(datetime_object)\n",
    "\n",
    "#  Get Current Date\n",
    "date = datetime.date.today()\n",
    "print(date)\n",
    "\n",
    "#  Date object to represent a date\n",
    "\n",
    "d = datetime.date(2019, 4, 13)\n",
    "print(d)\n",
    "\n",
    "\n",
    "from datetime import date\n",
    "\n",
    "a = date(2019, 4, 13)\n",
    "print(a)\n",
    "\n",
    "\n",
    "today = date.today()\n",
    "\n",
    "print(\"Current date =\", today)\n",
    "\n",
    "# Get date from a timestamp\n",
    "timestamp = date.fromtimestamp(1585391076.4387848)\n",
    "print(\"Date =\", timestamp)\n",
    "\n",
    "# Print today's year, month and day\n",
    "print(\"Current year:\", today.year)\n",
    "print(\"Current month:\", today.month)\n",
    "print(\"Current day:\", today.day)\n",
    "\n",
    "\n",
    "#  Time object to represent time\n",
    "\n",
    "from datetime import time\n",
    "# time(hour = 0, minute = 0, second = 0)\n",
    "a = time()\n",
    "print(\"a =\", a)\n",
    "\n",
    "# time(hour, minute and second)\n",
    "b = time(11, 34, 56)\n",
    "print(\"b =\", b)\n",
    "\n",
    "# time(hour, minute and second)\n",
    "c = time(hour = 11, minute = 34, second = 56)\n",
    "print(\"c =\", c)\n",
    "\n",
    "# time(hour, minute, second, microsecond)\n",
    "d = time(11, 34, 56, 234566)\n",
    "print(\"d =\", d)\n",
    "\n",
    "# e = time(c)\n",
    "# print(\"e =\", e)"
   ]
  },
  {
   "cell_type": "code",
   "execution_count": 13,
   "metadata": {},
   "outputs": [
    {
     "name": "stdout",
     "output_type": "stream",
     "text": [
      "{'strp_time.py': '2020-03-20 11:34:38'}\n"
     ]
    }
   ],
   "source": [
    "import os.path\n",
    "import time\n",
    "internal = {}\n",
    "modTimesinceEpoc = os.path.getmtime('/home/sitharth/projects/hub/database/institutes.csv')\n",
    "modificationTime = datetime.datetime.utcfromtimestamp(modTimesinceEpoc).strftime('%Y-%m-%d %H:%M:%S')\n",
    "internal.__setitem__('strp_time.py', modificationTime)\n",
    "print(internal)\n",
    "\n",
    "# import os.path\n",
    "# import time\n",
    "# import datetime\n",
    "# modTimesinceEpoc = os.path.getmtime('sample.py')\n",
    "# modificationTime = datetime.datetime.utcfromtimestamp(modTimesinceEpoc).strftime('%Y-%m-%d %H:%M:%S')\n",
    "# print(modificationTime)\n",
    "            "
   ]
  },
  {
   "cell_type": "code",
   "execution_count": 6,
   "metadata": {},
   "outputs": [
    {
     "name": "stdout",
     "output_type": "stream",
     "text": [
      "Parsing: 2018-06-29 08:15:27.243860\n",
      "2018-06-29\n",
      "08:15:27.243860\n",
      "None\n",
      "\n",
      "\n",
      "Parsing: Jun 28 2018 7:40AM\n",
      "2018-06-28\n",
      "07:40:00\n",
      "None\n",
      "\n",
      "\n",
      "Parsing: Jun 28 2018 at 7:40AM\n",
      "2018-06-28\n",
      "07:40:00\n",
      "None\n",
      "\n",
      "\n",
      "Parsing: September 18, 2017, 22:19:55\n",
      "2017-09-18\n",
      "22:19:55\n",
      "None\n",
      "\n",
      "\n",
      "Parsing: Sun, 05/12/1999, 12:30PM\n",
      "1999-05-12\n",
      "12:30:00\n",
      "None\n",
      "\n",
      "\n",
      "Parsing: Mon, 21 March, 2015\n",
      "2015-03-21\n",
      "00:00:00\n",
      "None\n",
      "\n",
      "\n",
      "Parsing: 2020-06-01T10:39:32.849970\n",
      "2020-06-01\n",
      "10:39:32.849970\n",
      "None\n",
      "\n",
      "\n",
      "Parsing: 2018-06-29 17:08:00.586525+00:00\n",
      "2018-06-29\n",
      "17:08:00.586525\n",
      "tzutc()\n",
      "\n",
      "\n",
      "Parsing: 2018-06-29 17:08:00.586525+05:00\n",
      "2018-06-29\n",
      "17:08:00.586525\n",
      "tzoffset(None, 18000)\n",
      "\n",
      "\n",
      "Parsing: Tuesday , 6th September, 2017 at 4:30pm\n",
      "2017-09-06\n",
      "16:30:00\n",
      "None\n",
      "\n",
      "\n"
     ]
    }
   ],
   "source": [
    "from dateutil.parser import parse\n",
    "\n",
    "date_array = [\n",
    "    '2018-06-29 08:15:27.243860',\n",
    "    'Jun 28 2018 7:40AM',\n",
    "    'Jun 28 2018 at 7:40AM',\n",
    "    'September 18, 2017, 22:19:55',\n",
    "    'Sun, 05/12/1999, 12:30PM',\n",
    "    'Mon, 21 March, 2015',\n",
    "    '2020-06-01T10:39:32.849970',\n",
    "    '2018-06-29 17:08:00.586525+00:00',\n",
    "    '2018-06-29 17:08:00.586525+05:00',\n",
    "    'Tuesday , 6th September, 2017 at 4:30pm'\n",
    "]\n",
    "\n",
    "for date in date_array:\n",
    "    print('Parsing: ' + date)\n",
    "    dt = parse(date)\n",
    "    print(dt.date())\n",
    "    print(dt.time())\n",
    "    print(dt.tzinfo)\n",
    "    print('\\n')"
   ]
  },
  {
   "cell_type": "code",
   "execution_count": 14,
   "metadata": {},
   "outputs": [
    {
     "name": "stdout",
     "output_type": "stream",
     "text": [
      "Parsing: Mon, 21 March, 2015\n",
      "2015-03-21 00:00:00+00:00\n",
      "2015-03-21\n",
      "00:00:00\n",
      "UTC\n",
      "Parsing: 2020-05-29T08:52:09.140070\n",
      "2020-05-29 08:52:09.140070+00:00\n",
      "2020-05-29\n",
      "08:52:09.140070\n",
      "UTC\n"
     ]
    }
   ],
   "source": [
    "import maya\n",
    "\n",
    "date_array = [\n",
    "\n",
    "    'Mon, 21 March, 2015',\n",
    "    '2020-05-29T08:52:09.140070',\n",
    "]\n",
    "\n",
    "for date in date_array:\n",
    "    print('Parsing: ' + date)\n",
    "    dt = maya.parse(date).datetime()\n",
    "    print(dt)\n",
    "    print(dt.date())\n",
    "    print(dt.time())\n",
    "    print(dt.tzinfo)"
   ]
  },
  {
   "cell_type": "code",
   "execution_count": 27,
   "metadata": {},
   "outputs": [
    {
     "name": "stdout",
     "output_type": "stream",
     "text": [
      "2020-05-25 00:00:00\n",
      "2017-11-28 23:55:59.342380\n"
     ]
    }
   ],
   "source": [
    "# Python datetime object\n",
    "from datetime import datetime\n",
    "\n",
    "#datetime(year, month, day)\n",
    "a = datetime(2020, 5, 25)\n",
    "print(a)\n",
    "\n",
    "# datetime(year, month, day, hour, minute, second, microsecond)\n",
    "b = datetime(2017, 11, 28, 23, 55, 59, 342380)\n",
    "print(b)"
   ]
  },
  {
   "cell_type": "code",
   "execution_count": 28,
   "metadata": {},
   "outputs": [
    {
     "name": "stdout",
     "output_type": "stream",
     "text": [
      "year = 2017\n",
      "month = 11\n",
      "hour = 23\n",
      "minute = 55\n",
      "timestamp = 1511893559.34238\n"
     ]
    }
   ],
   "source": [
    "from  datetime import datetime\n",
    "a = datetime(2017, 11, 28, 23, 55, 59, 342380)\n",
    "print(\"year =\", a.year)\n",
    "print(\"month =\", a.month)\n",
    "print(\"hour =\", a.hour)\n",
    "print(\"minute =\", a.minute)\n",
    "print(\"timestamp =\", a.timestamp())"
   ]
  },
  {
   "cell_type": "code",
   "execution_count": 31,
   "metadata": {},
   "outputs": [
    {
     "name": "stdout",
     "output_type": "stream",
     "text": [
      "t3 = 201 days, 0:00:00\n",
      "t6 = -333 days, 1:14:20\n",
      "type of t3 = <class 'datetime.timedelta'>\n",
      "type of t6 = <class 'datetime.timedelta'>\n"
     ]
    }
   ],
   "source": [
    "# Difference between two dates and times\n",
    "from datetime import datetime, date\n",
    "t1 = date(year = 2018, month = 7, day = 12)\n",
    "t2 = date(year = 2017, month = 12, day = 23)\n",
    "t3 = t1 - t2\n",
    "print(\"t3 =\", t3)\n",
    "\n",
    "t4 = datetime(year = 2018, month = 7, day = 12, hour = 7, minute = 9, second = 33)\n",
    "t5 = datetime(year = 2019, month = 6, day = 10, hour = 5, minute = 55, second = 13)\n",
    "t6 = t4 - t5\n",
    "print(\"t6 =\", t6)\n",
    "\n",
    "print(\"type of t3 =\", type(t3)) \n",
    "print(\"type of t6 =\", type(t6)) "
   ]
  },
  {
   "cell_type": "code",
   "execution_count": 32,
   "metadata": {},
   "outputs": [
    {
     "name": "stdout",
     "output_type": "stream",
     "text": [
      "t3 = 14 days, 13:55:39\n"
     ]
    }
   ],
   "source": [
    "# Difference between two timedelta objects\n",
    "from datetime import timedelta\n",
    "t1 = timedelta(weeks = 2, days = 5, hours = 1, seconds = 33)\n",
    "t2 = timedelta(days = 4, hours = 11, minutes = 4, seconds = 54)\n",
    "t3 = t1 - t2\n",
    "\n",
    "print(\"t3 =\", t3)"
   ]
  },
  {
   "cell_type": "code",
   "execution_count": 34,
   "metadata": {},
   "outputs": [
    {
     "name": "stdout",
     "output_type": "stream",
     "text": [
      "total seconds = 1645233.233423\n"
     ]
    }
   ],
   "source": [
    "# Time duration in seconds\n",
    "from datetime import timedelta\n",
    "\n",
    "t = timedelta(weeks = 2, days = 5, hours = 1, seconds = 33, microseconds = 233423)\n",
    "print(\"total seconds =\", t.total_seconds())"
   ]
  },
  {
   "cell_type": "code",
   "execution_count": 35,
   "metadata": {},
   "outputs": [
    {
     "name": "stdout",
     "output_type": "stream",
     "text": [
      "time: 11:10:54\n",
      "s1: 05/25/2020, 11:10:54\n",
      "s2: 25/05/2020, 11:10:54\n"
     ]
    }
   ],
   "source": [
    "# Format date using strftime()\n",
    "\n",
    "from datetime import datetime\n",
    "\n",
    "# current date and time\n",
    "now = datetime.now()\n",
    "\n",
    "t = now.strftime(\"%H:%M:%S\")\n",
    "print(\"time:\", t)\n",
    "\n",
    "s1 = now.strftime(\"%m/%d/%Y, %H:%M:%S\")\n",
    "# mm/dd/YY H:M:S format\n",
    "print(\"s1:\", s1)\n",
    "\n",
    "s2 = now.strftime(\"%d/%m/%Y, %H:%M:%S\")\n",
    "# dd/mm/YY H:M:S format\n",
    "print(\"s2:\", s2)"
   ]
  },
  {
   "cell_type": "code",
   "execution_count": 15,
   "metadata": {},
   "outputs": [
    {
     "name": "stdout",
     "output_type": "stream",
     "text": [
      "date_string = 2020-05-29T08:52:09.081240\n"
     ]
    },
    {
     "ename": "ValueError",
     "evalue": "'D' is a bad directive in format '%Y %M, %D'",
     "output_type": "error",
     "traceback": [
      "\u001b[0;31m---------------------------------------------------------------------------\u001b[0m",
      "\u001b[0;31mValueError\u001b[0m                                Traceback (most recent call last)",
      "\u001b[0;32m<ipython-input-15-2cda06ae6c03>\u001b[0m in \u001b[0;36m<module>\u001b[0;34m\u001b[0m\n\u001b[1;32m      5\u001b[0m \u001b[0mprint\u001b[0m\u001b[0;34m(\u001b[0m\u001b[0;34m\"date_string =\"\u001b[0m\u001b[0;34m,\u001b[0m \u001b[0mdate_string\u001b[0m\u001b[0;34m)\u001b[0m\u001b[0;34m\u001b[0m\u001b[0;34m\u001b[0m\u001b[0m\n\u001b[1;32m      6\u001b[0m \u001b[0;34m\u001b[0m\u001b[0m\n\u001b[0;32m----> 7\u001b[0;31m \u001b[0mdate_object\u001b[0m \u001b[0;34m=\u001b[0m \u001b[0mdatetime\u001b[0m\u001b[0;34m.\u001b[0m\u001b[0mstrptime\u001b[0m\u001b[0;34m(\u001b[0m\u001b[0mdate_string\u001b[0m\u001b[0;34m,\u001b[0m \u001b[0;34m\"%Y %M, %D\"\u001b[0m\u001b[0;34m)\u001b[0m\u001b[0;34m\u001b[0m\u001b[0;34m\u001b[0m\u001b[0m\n\u001b[0m\u001b[1;32m      8\u001b[0m \u001b[0mprint\u001b[0m\u001b[0;34m(\u001b[0m\u001b[0;34m\"date_object =\"\u001b[0m\u001b[0;34m,\u001b[0m \u001b[0mdate_object\u001b[0m\u001b[0;34m)\u001b[0m\u001b[0;34m\u001b[0m\u001b[0;34m\u001b[0m\u001b[0m\n",
      "\u001b[0;32m/usr/lib64/python3.6/_strptime.py\u001b[0m in \u001b[0;36m_strptime_datetime\u001b[0;34m(cls, data_string, format)\u001b[0m\n\u001b[1;32m    563\u001b[0m     \"\"\"Return a class cls instance based on the input string and the\n\u001b[1;32m    564\u001b[0m     format string.\"\"\"\n\u001b[0;32m--> 565\u001b[0;31m     \u001b[0mtt\u001b[0m\u001b[0;34m,\u001b[0m \u001b[0mfraction\u001b[0m \u001b[0;34m=\u001b[0m \u001b[0m_strptime\u001b[0m\u001b[0;34m(\u001b[0m\u001b[0mdata_string\u001b[0m\u001b[0;34m,\u001b[0m \u001b[0mformat\u001b[0m\u001b[0;34m)\u001b[0m\u001b[0;34m\u001b[0m\u001b[0;34m\u001b[0m\u001b[0m\n\u001b[0m\u001b[1;32m    566\u001b[0m     \u001b[0mtzname\u001b[0m\u001b[0;34m,\u001b[0m \u001b[0mgmtoff\u001b[0m \u001b[0;34m=\u001b[0m \u001b[0mtt\u001b[0m\u001b[0;34m[\u001b[0m\u001b[0;34m-\u001b[0m\u001b[0;36m2\u001b[0m\u001b[0;34m:\u001b[0m\u001b[0;34m]\u001b[0m\u001b[0;34m\u001b[0m\u001b[0;34m\u001b[0m\u001b[0m\n\u001b[1;32m    567\u001b[0m     \u001b[0margs\u001b[0m \u001b[0;34m=\u001b[0m \u001b[0mtt\u001b[0m\u001b[0;34m[\u001b[0m\u001b[0;34m:\u001b[0m\u001b[0;36m6\u001b[0m\u001b[0;34m]\u001b[0m \u001b[0;34m+\u001b[0m \u001b[0;34m(\u001b[0m\u001b[0mfraction\u001b[0m\u001b[0;34m,\u001b[0m\u001b[0;34m)\u001b[0m\u001b[0;34m\u001b[0m\u001b[0;34m\u001b[0m\u001b[0m\n",
      "\u001b[0;32m/usr/lib64/python3.6/_strptime.py\u001b[0m in \u001b[0;36m_strptime\u001b[0;34m(data_string, format)\u001b[0m\n\u001b[1;32m    352\u001b[0m                 \u001b[0;32mdel\u001b[0m \u001b[0merr\u001b[0m\u001b[0;34m\u001b[0m\u001b[0;34m\u001b[0m\u001b[0m\n\u001b[1;32m    353\u001b[0m                 raise ValueError(\"'%s' is a bad directive in format '%s'\" %\n\u001b[0;32m--> 354\u001b[0;31m                                     (bad_directive, format)) from None\n\u001b[0m\u001b[1;32m    355\u001b[0m             \u001b[0;31m# IndexError only occurs when the format string is \"%\"\u001b[0m\u001b[0;34m\u001b[0m\u001b[0;34m\u001b[0m\u001b[0;34m\u001b[0m\u001b[0m\n\u001b[1;32m    356\u001b[0m             \u001b[0;32mexcept\u001b[0m \u001b[0mIndexError\u001b[0m\u001b[0;34m:\u001b[0m\u001b[0;34m\u001b[0m\u001b[0;34m\u001b[0m\u001b[0m\n",
      "\u001b[0;31mValueError\u001b[0m: 'D' is a bad directive in format '%Y %M, %D'"
     ]
    }
   ],
   "source": [
    "# Python strptime() - string to datetime\n",
    "from datetime import datetime\n",
    "\n",
    "date_string = \"2020-05-29T08:52:09.081240\"\n",
    "print(\"date_string =\", date_string)\n",
    "\n",
    "date_object = datetime.strptime(date_string, \"%Y %M, %D\")\n",
    "print(\"date_object =\", date_object)\n"
   ]
  },
  {
   "cell_type": "code",
   "execution_count": 41,
   "metadata": {},
   "outputs": [
    {
     "name": "stdout",
     "output_type": "stream",
     "text": [
      "Local: 05/25/2020, 11:38:17\n",
      "NY: 05/25/2020, 02:08:17\n",
      "London: 05/25/2020, 07:08:17\n"
     ]
    }
   ],
   "source": [
    "from datetime import datetime\n",
    "import pytz\n",
    "local = datetime.now()\n",
    "print(\"Local:\", local.strftime(\"%m/%d/%Y, %H:%M:%S\"))\n",
    "\n",
    "tz_NY = pytz.timezone('America/New_York') \n",
    "datetime_NY = datetime.now(tz_NY)\n",
    "print(\"NY:\", datetime_NY.strftime(\"%m/%d/%Y, %H:%M:%S\"))\n",
    "\n",
    "tz_London = pytz.timezone('Europe/London')\n",
    "datetime_London = datetime.now(tz_London)\n",
    "print(\"London:\", datetime_London.strftime(\"%m/%d/%Y, %H:%M:%S\"))"
   ]
  }
 ],
 "metadata": {
  "kernelspec": {
   "display_name": "Python 3",
   "language": "python",
   "name": "python3"
  },
  "language_info": {
   "codemirror_mode": {
    "name": "ipython",
    "version": 3
   },
   "file_extension": ".py",
   "mimetype": "text/x-python",
   "name": "python",
   "nbconvert_exporter": "python",
   "pygments_lexer": "ipython3",
   "version": "3.6.10"
  }
 },
 "nbformat": 4,
 "nbformat_minor": 2
}
