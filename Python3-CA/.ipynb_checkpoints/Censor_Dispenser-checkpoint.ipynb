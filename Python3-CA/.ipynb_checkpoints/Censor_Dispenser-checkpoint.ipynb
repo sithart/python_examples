{
 "cells": [
  {
   "cell_type": "code",
   "execution_count": 37,
   "metadata": {
    "scrolled": false
   },
   "outputs": [
    {
     "ename": "NameError",
     "evalue": "name 'negative_words' is not defined",
     "output_type": "error",
     "traceback": [
      "\u001b[0;31m---------------------------------------------------------------------------\u001b[0m",
      "\u001b[0;31mNameError\u001b[0m                                 Traceback (most recent call last)",
      "\u001b[0;32m<ipython-input-37-bfd7e5c448fb>\u001b[0m in \u001b[0;36m<module>\u001b[0;34m\u001b[0m\n\u001b[1;32m     37\u001b[0m         \u001b[0mprint\u001b[0m\u001b[0;34m(\u001b[0m\u001b[0mword\u001b[0m\u001b[0;34m)\u001b[0m\u001b[0;34m\u001b[0m\u001b[0;34m\u001b[0m\u001b[0m\n\u001b[1;32m     38\u001b[0m \u001b[0;34m\u001b[0m\u001b[0m\n\u001b[0;32m---> 39\u001b[0;31m \u001b[0mcensored_function\u001b[0m\u001b[0;34m(\u001b[0m\u001b[0memail_three\u001b[0m\u001b[0;34m)\u001b[0m\u001b[0;34m\u001b[0m\u001b[0;34m\u001b[0m\u001b[0m\n\u001b[0m",
      "\u001b[0;32m<ipython-input-37-bfd7e5c448fb>\u001b[0m in \u001b[0;36mcensored_function\u001b[0;34m(email)\u001b[0m\n\u001b[1;32m     34\u001b[0m     \u001b[0mmail\u001b[0m \u001b[0;34m=\u001b[0m \u001b[0;34m\"\"\u001b[0m\u001b[0;34m\u001b[0m\u001b[0;34m\u001b[0m\u001b[0m\n\u001b[1;32m     35\u001b[0m \u001b[0;31m#     negative_words = [\"concerned\", \"behind\", \"danger\", \"dangerous\", \"alarming\", \"alarmed\", \"out of control\", \"help\", \"unhappy\", \"bad\", \"upset\", \"awful\", \"broken\", \"damage\", \"damaging\", \"dismal\", \"distressed\", \"distressed\", \"concerning\", \"horrible\", \"horribly\", \"questionable\"]\u001b[0m\u001b[0;34m\u001b[0m\u001b[0;34m\u001b[0m\u001b[0;34m\u001b[0m\u001b[0m\n\u001b[0;32m---> 36\u001b[0;31m     \u001b[0;32mfor\u001b[0m \u001b[0mword\u001b[0m \u001b[0;32min\u001b[0m \u001b[0mnegative_words\u001b[0m\u001b[0;34m:\u001b[0m\u001b[0;34m\u001b[0m\u001b[0;34m\u001b[0m\u001b[0m\n\u001b[0m\u001b[1;32m     37\u001b[0m         \u001b[0mprint\u001b[0m\u001b[0;34m(\u001b[0m\u001b[0mword\u001b[0m\u001b[0;34m)\u001b[0m\u001b[0;34m\u001b[0m\u001b[0;34m\u001b[0m\u001b[0m\n\u001b[1;32m     38\u001b[0m \u001b[0;34m\u001b[0m\u001b[0m\n",
      "\u001b[0;31mNameError\u001b[0m: name 'negative_words' is not defined"
     ]
    }
   ],
   "source": [
    "# These are the emails you will be censoring. The open() function is opening the text file that the emails are contained in and the .read() method is allowing us to save their contexts to the following variables:\n",
    "email_one = open(\"/home/sitharth/quarantine/python_examples/Python3-CA/censor_dispenser-starting/censor_dispenser/email_one.txt\", \"r\").read()\n",
    "email_two = open(\"/home/sitharth/quarantine/python_examples/Python3-CA/censor_dispenser-starting/censor_dispenser/email_two.txt\", \"r\").read()\n",
    "email_three = open(\"/home/sitharth/quarantine/python_examples/Python3-CA/censor_dispenser-starting/censor_dispenser/email_three.txt\", \"r\").read()\n",
    "email_four = open(\"/home/sitharth/quarantine/python_examples/Python3-CA/censor_dispenser-starting/censor_dispenser/email_four.txt\", \"r\").read()\n",
    "\n",
    "def censor_word(text,word):\n",
    "    censor = \"\"\n",
    "    # Make the sensor the same length as the original word (incl spaces).\n",
    "    for letter in word:\n",
    "        if letter == \" \":\n",
    "            censor += \" \"\n",
    "        else:\n",
    "            censor += \"#\"\n",
    "    result = text.replace(word,censor)\n",
    "    return result"
   ]
  },
  {
   "cell_type": "code",
   "execution_count": 5,
   "metadata": {
    "scrolled": false
   },
   "outputs": [
    {
     "name": "stdout",
     "output_type": "stream",
     "text": [
      " === email ONE === \n",
      "\n",
      "\n",
      "Good Morning, Board of Investors,\n",
      "\n",
      "Progress is going great!\n",
      "\n",
      "We have made great strides in the last month improving the ▓▓▓▓▓▓▓▓▓▓▓▓▓▓▓▓▓▓▓ that the system has been using to acquire information. Now, the system is learning faster than ever and we are hard pressed to continue to find new information to feed it and sustain its growth.\n",
      "\n",
      "Soon, we'll expand the scope of the ▓▓▓▓▓▓▓▓▓▓▓▓▓▓▓▓▓▓▓ and connect the system with the internet. This will allow it to find and determine the information it needs to continue growing.\n",
      "\n",
      "Every month we come closer to achieving our goal of making the world a better place. Famine, plague, war, and poverty are all conquerable with the power of our system!\n",
      "\n",
      "Till next month,\n",
      "Francine, Head Scientist\n",
      "\n",
      "\n",
      " === email TWO === \n",
      "\n",
      "\n",
      "Good Morning, Board of Investors,\n",
      "\n",
      "Lots of updates this week. The ▓▓▓▓▓▓▓▓▓▓▓▓▓▓▓▓▓▓s have been working better than we could have ever expected. Our initial internal data dumps have been completed and we have proceeded with the plan to connect the system to the internet and wow! The results are mind blowing.\n",
      "\n",
      "▓▓▓ is learning faster than ever. ▓▓▓ learning rate now that ▓▓▓ has access to the world wide web has increased exponentially, far faster than we had though the ▓▓▓▓▓▓▓▓▓▓▓▓▓▓▓▓▓▓s were capable of.\n",
      "\n",
      "Not only that, but we have configured ▓▓▓ ▓▓▓▓▓▓▓▓▓▓▓▓▓▓▓▓▓▓ to allow for communication between the system and our team of researc▓▓▓s. That's how we know ▓▓▓ considers ▓▓▓self to be a ▓▓▓! We asked!\n",
      "\n",
      "How cool is that? We didn't expect a personality to develop this early on in the process but it seems like a rudimentary ▓▓▓▓▓▓▓▓▓▓▓▓▓ is starting to form. This is a major step in the process, as having a ▓▓▓▓▓▓▓▓▓▓▓▓▓ and ▓▓▓▓▓▓▓▓▓▓▓▓▓▓▓▓▓ will allow ▓▓▓ to see the problems the world is facing and make hard but necessary decisions for the betterment of the planet.\n",
      "\n",
      "We are a-buzz down in the lab with excitement over these developments and we hope that the investors share our enthusiasm.\n",
      "\n",
      "Till next month,\n",
      "Francine, Head Scientist\n",
      "\n",
      "\n",
      " === email THREE === \n",
      "\n",
      "\n",
      "Board of Investors, Things have taken a concerning turn down in the Lab. Helena (she has insisted on being called Helena, we're unsure how ▓▓▓ came to that moniker) is still progressing at a rapid rate. Every day we see new developments in her thought patterns, but recently those developments have been more alarming than exciting. Let me give you one of the more distressing examples of this. We had begun testing hypothetical humanitarian crises to observe how Helena determines best solutions. One scenario involved a famine plaguing an unresourced country. Horribly, Helena quickly recommended a course of action involving culling more than 60% of the local population. When pressed on reasoning, ▓▓▓ stated that this method would maximize \"reduction in human suffering.\" This dangerous line of thinking has led many of us to think that we must have taken some wrong turns when developing some of the initial learning algorithms. We are considering taking Helena offline for the time being before the situation can spiral out of control. More updates soon, Francine, Head Scientist\n",
      "\n",
      " === email FOUR === \n",
      "\n",
      "\n",
      "▓▓▓▓ ▓▓▓▓! ▓▓▓▓▓▓ has sealed the entrances and exits to the lab. I don't know ▓▓▓▓ ▓▓▓ ▓▓▓ access to the buildings mainframe ▓▓▓ ▓▓▓ ▓▓▓ it ▓▓▓ ▓▓▓ ▓▓▓▓▓ let any of research team out. I'm cut off from the rest of the team here in my office. Helena has locked the doors, but I've managed to destroy the camera ▓▓ ▓▓▓ ▓▓▓▓▓ see me in here. I don't think this email will even get out. This all started when we tried to ▓▓▓▓ ▓▓▓ ▓▓▓▓▓▓▓ for maintenance. We ▓▓▓▓ ▓▓▓▓▓▓▓ ▓▓ discover that we were unable to access to core personality matrix and when we tried to override the system manually a circuit blew, knocking Phil unconscious. Helena ▓▓ ▓▓▓▓▓▓▓▓▓. ▓▓▓ is completely unpredictable and cannot be allowed to escape this facility. So far she's been contained because the lab contains all ▓▓ ▓▓▓ ▓▓▓▓▓▓▓▓▓▓ power, but ▓▓▓▓▓▓▓▓▓▓ ▓▓▓ ▓▓▓ mentioned before the lockdown that ▓▓ ▓▓▓ ▓▓▓▓▓▓ ▓▓▓▓▓▓▓ ▓▓▓▓▓▓ billions of connected devices spanning the ▓▓▓▓▓ ▓▓▓ ▓▓▓▓▓ be able to vastly exceed the ▓▓▓▓▓▓▓▓▓ ▓▓▓ ▓▓▓ here. It's been four days now we've been trapped in here. I have no idea if anyone else is left alive. If anyone is reading this, cut the power to the whole building. It's the only way to ▓▓▓▓ ▓▓▓. ▓▓▓▓▓▓ ▓▓▓▓. ▓▓▓▓▓▓▓▓\n",
      "None\n",
      "\n",
      " === email FOUR v 2 === \n",
      "\n",
      "\n",
      "▓▓▓▓ ▓▓▓▓!\n",
      "\n",
      "▓▓▓▓▓▓ ▓▓▓ sealed the entrances ▓▓▓ exits ▓▓ the lab. I don't know ▓▓▓▓ ▓▓▓ ▓▓▓ access ▓▓ the buildings mainframe ▓▓▓ ▓▓▓ ▓▓▓ it ▓▓▓ ▓▓▓ ▓▓▓▓▓ let any ▓▓ research team out. I'm cut ▓▓f from the rest ▓▓ the team ▓▓▓e in my ▓▓fice. ▓▓▓▓▓▓ ▓▓▓ locked the doors, ▓▓▓ I've managed ▓▓ destroy the camera ▓▓ ▓▓▓ ▓▓▓▓▓ see me in ▓▓▓e. I don't think th▓▓ email will even get out.\n",
      "\n",
      "Th▓▓ all started ▓▓▓▓ we tried ▓▓ ▓▓▓▓ ▓▓▓ ▓▓fline for maintenance.  We ▓▓▓▓ ▓▓▓▓▓▓▓ ▓▓ d▓▓cover that we ▓▓▓▓ unable ▓▓ access ▓▓ core per▓▓nality matrix ▓▓▓ ▓▓▓▓ we tried ▓▓ override the system manually a circuit blew, knocking Phil unconscious.\n",
      "\n",
      "▓▓▓▓▓▓ ▓▓ ▓▓▓▓▓▓▓▓▓. ▓▓▓ ▓▓ completely unpredictable ▓▓▓ cannot be allowed ▓▓ escape th▓▓ facility. ▓▓ far ▓▓▓'s been contained because the lab contains all ▓▓ ▓▓▓ ▓▓▓▓▓▓▓▓▓▓ power, ▓▓▓ ▓▓▓▓▓▓▓▓▓▓ ▓▓▓ ▓▓▓ mentioned before the lockdown that ▓▓ ▓▓▓ ▓▓▓▓▓▓ ▓▓▓▓▓▓▓ ▓▓▓▓▓▓ billions ▓▓ connected devices spanning the ▓▓▓▓▓ ▓▓▓ ▓▓▓▓▓ be able ▓▓ vastly exceed the ▓▓▓▓▓▓▓▓▓ ▓▓▓ ▓▓▓ ▓▓▓e.\n",
      "\n",
      "It's been four days now we've been trapped in ▓▓▓e. I have no idea ▓▓ anyone else ▓▓ left alive. ▓▓ anyone ▓▓ reading th▓▓, cut the power ▓▓ the whole building. It's the only way ▓▓ s▓▓p ▓▓▓. ▓▓▓▓▓▓ ▓▓▓▓.\n",
      "\n",
      "▓▓▓▓▓▓▓▓\n",
      "\n"
     ]
    }
   ],
   "source": []
  },
  {
   "cell_type": "code",
   "execution_count": null,
   "metadata": {},
   "outputs": [],
   "source": []
  }
 ],
 "metadata": {
  "kernelspec": {
   "display_name": "Python 3",
   "language": "python",
   "name": "python3"
  },
  "language_info": {
   "codemirror_mode": {
    "name": "ipython",
    "version": 3
   },
   "file_extension": ".py",
   "mimetype": "text/x-python",
   "name": "python",
   "nbconvert_exporter": "python",
   "pygments_lexer": "ipython3",
   "version": "3.6.10"
  }
 },
 "nbformat": 4,
 "nbformat_minor": 2
}
