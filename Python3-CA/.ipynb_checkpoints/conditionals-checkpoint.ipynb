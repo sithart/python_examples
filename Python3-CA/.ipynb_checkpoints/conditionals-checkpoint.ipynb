{
 "cells": [
  {
   "cell_type": "code",
   "execution_count": 2,
   "metadata": {},
   "outputs": [],
   "source": [
    "statement_one = not (4 + 5 <= 9)\n",
    "\n",
    "statement_two = not (8 * 2) != 20 - 4\n",
    "\n",
    "def graduation_reqs(gpa, credits):\n",
    "  if (gpa >= 2.0) and (credits >= 120):\n",
    "    return \"You meet the requirements to graduate!\"\n",
    "  if (gpa >= 2.0) and not (credits >= 120):\n",
    "    return \"You do not have enough credits to graduate.\"\n",
    "  if not (gpa >= 2.0) and (credits >= 120):\n",
    "    return \"Your GPA is not high enough to graduate.\"\n",
    "\n",
    "  else:\n",
    "    return \"You do not meet the GPA or the credit requirement for graduation.\""
   ]
  },
  {
   "cell_type": "code",
   "execution_count": 6,
   "metadata": {},
   "outputs": [
    {
     "name": "stdout",
     "output_type": "stream",
     "text": [
      "Thank you for your donation! You have achieved platinum donation status!\n",
      "Thank you for your donation! You have achieved gold donation status!\n",
      "Thank you for your donation! You have achieved silver donation status!\n",
      "Thank you for your donation! You have achieved platinum donation status!\n"
     ]
    }
   ],
   "source": [
    "#If statement\n",
    "\n",
    "def thank_you(donation):\n",
    "  if donation >= 1000:\n",
    "    print(\"Thank you for your donation! You have achieved platinum donation status!\")\n",
    "  if donation >= 500: \n",
    "    print(\"Thank you for your donation! You have achieved gold donation status!\")\n",
    "  if donation >= 100:\n",
    "    print(\"Thank you for your donation! You have achieved silver donation status!\")\n",
    "  else:\n",
    "    print(\"Thank you for your donation! You have achieved bronze donation status!\")\n",
    "    \n",
    "thank_you(1000)\n",
    "\n",
    "#Elif statement \n",
    "\n",
    "def thank_you(donation):\n",
    "  if donation >= 1000:\n",
    "    print(\"Thank you for your donation! You have achieved platinum donation status!\")\n",
    "  elif donation >= 500: \n",
    "    print(\"Thank you for your donation! You have achieved gold donation status!\")\n",
    "  elif donation >= 100:\n",
    "    print(\"Thank you for your donation! You have achieved silver donation status!\")\n",
    "  else:\n",
    "    print(\"Thank you for your donation! You have achieved bronze donation status!\")\n",
    "    \n",
    "thank_you(1000)"
   ]
  },
  {
   "cell_type": "code",
   "execution_count": null,
   "metadata": {},
   "outputs": [],
   "source": [
    "# Grade Converter\n",
    "def grade_converter(gpa):\n",
    "  if gpa >= 4.0:\n",
    "    return 'A'\n",
    "  elif gpa >= 3.0:\n",
    "    return 'B'\n",
    "  elif gpa >= 2.0:\n",
    "    return 'C'\n",
    "  elif gpa >= 1.0:\n",
    "    return 'D'\n",
    "  elif gpa >= 0.0:\n",
    "    return 'F'\n",
    "\n",
    "grade = grade_converter(4.0)\n",
    "print(grade)"
   ]
  }
 ],
 "metadata": {
  "kernelspec": {
   "display_name": "Python 3",
   "language": "python",
   "name": "python3"
  },
  "language_info": {
   "codemirror_mode": {
    "name": "ipython",
    "version": 3
   },
   "file_extension": ".py",
   "mimetype": "text/x-python",
   "name": "python",
   "nbconvert_exporter": "python",
   "pygments_lexer": "ipython3",
   "version": "3.6.10"
  }
 },
 "nbformat": 4,
 "nbformat_minor": 2
}
