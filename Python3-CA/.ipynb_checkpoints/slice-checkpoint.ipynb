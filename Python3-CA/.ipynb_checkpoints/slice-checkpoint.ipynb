{
 "cells": [
  {
   "cell_type": "code",
   "execution_count": 6,
   "metadata": {},
   "outputs": [
    {
     "name": "stdout",
     "output_type": "stream",
     "text": [
      "['apple']\n"
     ]
    }
   ],
   "source": [
    "inventory = ['twin bed', 'twin bed', 'headboard', 'queen bed', 'king bed', 'dresser', 'dresser', 'table', 'table', 'nightstand', 'nightstand', 'king bed', 'king bed', 'twin bed', 'twin bed', 'sheets', 'sheets', 'pillow', 'pillow']\n",
    "\n",
    "inventory_len = len(inventory)\n",
    "\n",
    "print(inventory_len)\n",
    "\n",
    "first = inventory[0]\n",
    "\n",
    "last = inventory[-1]\n",
    "\n",
    "inventory_2_6 = inventory[2:6]\n",
    "\n",
    "first_3 = inventory[:3]\n",
    "\n",
    "twin_beds = inventory.count('twin bed')\n",
    "\n",
    "data = inventory.sort()\n",
    "print(data)"
   ]
  },
  {
   "cell_type": "code",
   "execution_count": 8,
   "metadata": {},
   "outputs": [
    {
     "name": "stdout",
     "output_type": "stream",
     "text": [
      "[1, 1, 2, 3, 5, 8]\n"
     ]
    }
   ],
   "source": [
    "# 1. Append Sum\n",
    "\n",
    "def append_sum(lst):\n",
    "  # lst = lst\n",
    "  one = lst[-1] + lst[-2]\n",
    "  lst.append(one)\n",
    "  two = lst[-1] + lst[-2]\n",
    "  lst.append(two)\n",
    "  three = lst[-1] + lst[-2]\n",
    "  lst.append(three)\n",
    "  return lst\n",
    "\n",
    "\n",
    "#Uncomment the line below when your function is done\n",
    "print(append_sum([1, 1, 2]))"
   ]
  },
  {
   "cell_type": "code",
   "execution_count": null,
   "metadata": {},
   "outputs": [],
   "source": [
    "# 2. Larger List\n",
    "# Write a function named larger_list that has two parameters named lst1 and lst2.\n",
    "# The function should return the last element of the list that contains more elements.\n",
    "# If both lists are the same size, then return the last element of lst1.\n",
    "\n",
    "\n",
    "def larger_list(lst1,lst2):\n",
    "  if len(lst1) > len(lst2):\n",
    "    return lst1[-1]\n",
    "  elif len(lst1) < len(lst2):\n",
    "    return lst2[-1]\n",
    "  elif len(lst1) == len(lst2):\n",
    "    return lst1[-1]\n",
    "\n",
    "#Uncomment the line below when your function is done\n",
    "print(larger_list([4, 10, 2, 5], [-10, 2, 5, 10]))"
   ]
  },
  {
   "cell_type": "code",
   "execution_count": 10,
   "metadata": {},
   "outputs": [
    {
     "name": "stdout",
     "output_type": "stream",
     "text": [
      "True\n"
     ]
    }
   ],
   "source": [
    "# 3. More Than N\n",
    "# Create a function named more_than_n that has three parameters named lst, item, and n.\n",
    "# The function should return True if item appears in the list more than n times. \n",
    "# The function should return False otherwise.\n",
    "\n",
    "def more_than_n(lst,item,n):\n",
    "  if lst.count(item) > n:\n",
    "    return True\n",
    "  else:\n",
    "    return False\n",
    "\n",
    "#Uncomment the line below when your function is done\n",
    "print(more_than_n([2, 4, 6, 2, 3, 2, 1, 2], 2, 3))"
   ]
  },
  {
   "cell_type": "code",
   "execution_count": null,
   "metadata": {},
   "outputs": [],
   "source": [
    "# 4. Append Size\n",
    "'''\n",
    "Create a function called append_size that has one parameter named lst.\n",
    "\n",
    "The function should append the size of lst (inclusive) to the end of lst.\n",
    "The function should then return this new list.\n",
    "\n",
    "For example, if lst was [23, 42, 108], \n",
    "the function should return [23, 42, 108, 3] because the size of lst was originally 3.\n",
    "'''\n",
    "\n",
    "\n",
    "def append_size(lst):\n",
    "  lst.append(len(lst))\n",
    "  return lst\n",
    "#Uncomment the line below when your function is done\n",
    "print(append_size([23, 42, 108]))"
   ]
  }
 ],
 "metadata": {
  "kernelspec": {
   "display_name": "Python 3",
   "language": "python",
   "name": "python3"
  },
  "language_info": {
   "codemirror_mode": {
    "name": "ipython",
    "version": 3
   },
   "file_extension": ".py",
   "mimetype": "text/x-python",
   "name": "python",
   "nbconvert_exporter": "python",
   "pygments_lexer": "ipython3",
   "version": "3.6.10"
  }
 },
 "nbformat": 4,
 "nbformat_minor": 2
}
