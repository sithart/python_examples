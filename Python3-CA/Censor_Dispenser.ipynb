{
 "cells": [
  {
   "cell_type": "code",
   "execution_count": 37,
   "metadata": {},
   "outputs": [
    {
     "ename": "NameError",
     "evalue": "name 'negative_words' is not defined",
     "output_type": "error",
     "traceback": [
      "\u001b[0;31m---------------------------------------------------------------------------\u001b[0m",
      "\u001b[0;31mNameError\u001b[0m                                 Traceback (most recent call last)",
      "\u001b[0;32m<ipython-input-37-bfd7e5c448fb>\u001b[0m in \u001b[0;36m<module>\u001b[0;34m\u001b[0m\n\u001b[1;32m     37\u001b[0m         \u001b[0mprint\u001b[0m\u001b[0;34m(\u001b[0m\u001b[0mword\u001b[0m\u001b[0;34m)\u001b[0m\u001b[0;34m\u001b[0m\u001b[0;34m\u001b[0m\u001b[0m\n\u001b[1;32m     38\u001b[0m \u001b[0;34m\u001b[0m\u001b[0m\n\u001b[0;32m---> 39\u001b[0;31m \u001b[0mcensored_function\u001b[0m\u001b[0;34m(\u001b[0m\u001b[0memail_three\u001b[0m\u001b[0;34m)\u001b[0m\u001b[0;34m\u001b[0m\u001b[0;34m\u001b[0m\u001b[0m\n\u001b[0m",
      "\u001b[0;32m<ipython-input-37-bfd7e5c448fb>\u001b[0m in \u001b[0;36mcensored_function\u001b[0;34m(email)\u001b[0m\n\u001b[1;32m     34\u001b[0m     \u001b[0mmail\u001b[0m \u001b[0;34m=\u001b[0m \u001b[0;34m\"\"\u001b[0m\u001b[0;34m\u001b[0m\u001b[0;34m\u001b[0m\u001b[0m\n\u001b[1;32m     35\u001b[0m \u001b[0;31m#     negative_words = [\"concerned\", \"behind\", \"danger\", \"dangerous\", \"alarming\", \"alarmed\", \"out of control\", \"help\", \"unhappy\", \"bad\", \"upset\", \"awful\", \"broken\", \"damage\", \"damaging\", \"dismal\", \"distressed\", \"distressed\", \"concerning\", \"horrible\", \"horribly\", \"questionable\"]\u001b[0m\u001b[0;34m\u001b[0m\u001b[0;34m\u001b[0m\u001b[0;34m\u001b[0m\u001b[0m\n\u001b[0;32m---> 36\u001b[0;31m     \u001b[0;32mfor\u001b[0m \u001b[0mword\u001b[0m \u001b[0;32min\u001b[0m \u001b[0mnegative_words\u001b[0m\u001b[0;34m:\u001b[0m\u001b[0;34m\u001b[0m\u001b[0;34m\u001b[0m\u001b[0m\n\u001b[0m\u001b[1;32m     37\u001b[0m         \u001b[0mprint\u001b[0m\u001b[0;34m(\u001b[0m\u001b[0mword\u001b[0m\u001b[0;34m)\u001b[0m\u001b[0;34m\u001b[0m\u001b[0;34m\u001b[0m\u001b[0m\n\u001b[1;32m     38\u001b[0m \u001b[0;34m\u001b[0m\u001b[0m\n",
      "\u001b[0;31mNameError\u001b[0m: name 'negative_words' is not defined"
     ]
    }
   ],
   "source": [
    "# These are the emails you will be censoring. The open() function is opening the text file that the emails are contained in and the .read() method is allowing us to save their contexts to the following variables:\n",
    "email_one = open(\"/home/sitharth/quarantine/python_examples/Python3-CA/censor_dispenser-starting/censor_dispenser/email_one.txt\", \"r\").read()\n",
    "email_two = open(\"/home/sitharth/quarantine/python_examples/Python3-CA/censor_dispenser-starting/censor_dispenser/email_two.txt\", \"r\").read()\n",
    "email_three = open(\"/home/sitharth/quarantine/python_examples/Python3-CA/censor_dispenser-starting/censor_dispenser/email_three.txt\", \"r\").read()\n",
    "email_four = open(\"/home/sitharth/quarantine/python_examples/Python3-CA/censor_dispenser-starting/censor_dispenser/email_four.txt\", \"r\").read()\n",
    "\n",
    "# print(email_one)\n",
    "# specific word checker function\n",
    "def phrase_detector(email):\n",
    "  if \"learning algorithms\" in email:\n",
    "    return \"learning algorithms\"\n",
    "  else:\n",
    "    return False\n",
    "# print(phrase_detector(email_one)) \n",
    "\n",
    "# Not a specific word check the list\n",
    "\n",
    "def list_detector(email):\n",
    "  proprietary_terms = [\"she\", \"personality matrix\", \"sense of self\", \"self-preservation\", \"learning algorithm\", \"her\", \"herself\"]\n",
    "\n",
    "  presented_words = []\n",
    "  for terms in proprietary_terms:\n",
    "    if terms in email:\n",
    "      presented_words.append(terms)\n",
    "  return presented_words\n",
    "      \n",
    "\n",
    "# print(list_detector(email_two))\n",
    "\n",
    "\n",
    "\n",
    "# strict censored function\n",
    "def censored_function(email):\n",
    "    mail = \"\"\n",
    "#     negative_words = [\"concerned\", \"behind\", \"danger\", \"dangerous\", \"alarming\", \"alarmed\", \"out of control\", \"help\", \"unhappy\", \"bad\", \"upset\", \"awful\", \"broken\", \"damage\", \"damaging\", \"dismal\", \"distressed\", \"distressed\", \"concerning\", \"horrible\", \"horribly\", \"questionable\"]\n",
    "    for word in negative_words:\n",
    "        print(word)\n",
    "        \n",
    "censored_function(email_three)"
   ]
  },
  {
   "cell_type": "code",
   "execution_count": null,
   "metadata": {},
   "outputs": [],
   "source": []
  }
 ],
 "metadata": {
  "kernelspec": {
   "display_name": "Python 3",
   "language": "python",
   "name": "python3"
  },
  "language_info": {
   "codemirror_mode": {
    "name": "ipython",
    "version": 3
   },
   "file_extension": ".py",
   "mimetype": "text/x-python",
   "name": "python",
   "nbconvert_exporter": "python",
   "pygments_lexer": "ipython3",
   "version": "3.6.10"
  }
 },
 "nbformat": 4,
 "nbformat_minor": 2
}
