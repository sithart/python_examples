{
 "cells": [
  {
   "cell_type": "code",
   "execution_count": 5,
   "metadata": {},
   "outputs": [
    {
     "name": "stdout",
     "output_type": "stream",
     "text": [
      "2.0\n",
      "Can't divide by zero!\n"
     ]
    }
   ],
   "source": [
    "def divides(a,b):\n",
    "  try:\n",
    "    result = a / b\n",
    "    print (result)\n",
    "  except ZeroDivisionError:\n",
    "    print (\"Can't divide by zero!\")\n",
    "    \n",
    "divides(10,5)\n",
    "divides(10,0)"
   ]
  },
  {
   "cell_type": "code",
   "execution_count": null,
   "metadata": {},
   "outputs": [],
   "source": [
    "def raises_value_error():\n",
    "  raise ValueError\n",
    "\n",
    "try:\n",
    "  raises_value_error()\n",
    "except ValueError:\n",
    "  print(\"You raised a ValueError!\")"
   ]
  },
  {
   "cell_type": "code",
   "execution_count": null,
   "metadata": {},
   "outputs": [],
   "source": [
    "# Sal's Shipping\n",
    "def groud_shipping(weight):\n",
    "  cost = weight * 4 +20\n",
    "  return cost\n",
    "\n",
    "\n",
    "\n",
    "def drone_shipping(weight):\n",
    "  cost = weight * 4.50 + 0.0\n",
    "  return cost\n",
    "\n",
    "premium_groud_shipping = 125.00\n",
    "\n",
    "ground_ship = groud_shipping(41.5)\n",
    "drone_ship = drone_shipping(41.5)\n",
    "print(premium_groud_shipping)\n",
    "\n",
    "\n",
    "if premium_groud_shipping < ground_ship and premium_groud_shipping < drone_ship:\n",
    "  print(\"Premium groud shipping is cheaper!\")\n",
    "elif ground_ship < premium_groud_shipping and ground_ship < drone_ship:\n",
    "  print('Ground shipping is cheaper')\n",
    "\n",
    "elif drone_ship < premium_groud_shipping and drone_ship < ground_ship:\n",
    "  print('drone shipping is cheaper')"
   ]
  },
  {
   "cell_type": "code",
   "execution_count": 6,
   "metadata": {},
   "outputs": [
    {
     "ename": "SyntaxError",
     "evalue": "invalid syntax (<ipython-input-6-a90d0b27ff39>, line 2)",
     "output_type": "error",
     "traceback": [
      "\u001b[0;36m  File \u001b[0;32m\"<ipython-input-6-a90d0b27ff39>\"\u001b[0;36m, line \u001b[0;32m2\u001b[0m\n\u001b[0;31m    if x = 0:\u001b[0m\n\u001b[0m         ^\u001b[0m\n\u001b[0;31mSyntaxError\u001b[0m\u001b[0;31m:\u001b[0m invalid syntax\n"
     ]
    }
   ],
   "source": [
    "def simple_conditional(x):\n",
    "  if x = 0:\n",
    "    print(\"x is equal to zero.\")\n",
    "  elif x >= 0:\n",
    "    print(\"x is greater than zero.\")\n",
    "  else:\n",
    "    print(\"x is less than zero.\")\n",
    "\n",
    "simple_conditional(0)"
   ]
  }
 ],
 "metadata": {
  "kernelspec": {
   "display_name": "Python 3",
   "language": "python",
   "name": "python3"
  },
  "language_info": {
   "codemirror_mode": {
    "name": "ipython",
    "version": 3
   },
   "file_extension": ".py",
   "mimetype": "text/x-python",
   "name": "python",
   "nbconvert_exporter": "python",
   "pygments_lexer": "ipython3",
   "version": "3.6.10"
  }
 },
 "nbformat": 4,
 "nbformat_minor": 2
}
