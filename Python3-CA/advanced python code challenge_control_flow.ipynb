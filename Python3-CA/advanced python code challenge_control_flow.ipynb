{
 "cells": [
  {
   "cell_type": "code",
   "execution_count": 7,
   "metadata": {},
   "outputs": [
    {
     "name": "stdout",
     "output_type": "stream",
     "text": [
      "10\n",
      "5\n",
      "-5\n",
      "It's a tie!\n"
     ]
    }
   ],
   "source": [
    "# Advanced Python Code Challenges: Control Flow\n",
    "\n",
    "# Difficult Python Code Challenges Involving Control Flow\n",
    "\n",
    "# Write your max_num function here:\n",
    "def max_num(num1,num2,num3):\n",
    "  # num1\n",
    "    if num1 > num2 and num1 > num3:\n",
    "        return num1\n",
    "   # num2\n",
    "    elif num2 > num1 and num2 > num3:\n",
    "        return num2\n",
    "  # num3\n",
    "    elif num3 > num1 and num3 > num2:\n",
    "        return num3\n",
    "    elif num1 == num2 or num1 == num3 or num2 == num3:\n",
    "        return  \"It's a tie!\"\n",
    "\n",
    "# Uncomment these function calls to test your max_num function:\n",
    "print(max_num(-10, 0, 10))\n",
    "# should print 10\n",
    "print(max_num(-10, 5, -30))\n",
    "# should print 5\n",
    "print(max_num(-5, -10, -10))\n",
    "# should print -5\n",
    "print(max_num(2, 3, 3))\n",
    "# should print \"It's a tie!\"\n"
   ]
  }
 ],
 "metadata": {
  "kernelspec": {
   "display_name": "Python 3",
   "language": "python",
   "name": "python3"
  },
  "language_info": {
   "codemirror_mode": {
    "name": "ipython",
    "version": 3
   },
   "file_extension": ".py",
   "mimetype": "text/x-python",
   "name": "python",
   "nbconvert_exporter": "python",
   "pygments_lexer": "ipython3",
   "version": "3.6.10"
  }
 },
 "nbformat": 4,
 "nbformat_minor": 2
}
