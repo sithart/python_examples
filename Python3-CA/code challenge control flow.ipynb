{
 "cells": [
  {
   "cell_type": "code",
   "execution_count": 9,
   "metadata": {},
   "outputs": [
    {
     "data": {
      "text/plain": [
       "4096"
      ]
     },
     "execution_count": 9,
     "metadata": {},
     "output_type": "execute_result"
    }
   ],
   "source": [
    "#Large Power\n",
    "# Write your large_power function here:\n",
    "def large_power(base, exponent):\n",
    "  data = base ** exponent\n",
    "  if data > 5000:\n",
    "    return True\n",
    "  else:\n",
    "    return False\n",
    "# Uncomment these function calls to test your large_power function:\n",
    "print(large_power(2, 13))\n",
    "# should print True\n",
    "print(large_power(2, 12))\n",
    "# should print False"
   ]
  },
  {
   "cell_type": "code",
   "execution_count": 11,
   "metadata": {},
   "outputs": [
    {
     "ename": "SyntaxError",
     "evalue": "invalid syntax (<ipython-input-11-53c1ac89e790>, line 2)",
     "output_type": "error",
     "traceback": [
      "\u001b[0;36m  File \u001b[0;32m\"<ipython-input-11-53c1ac89e790>\"\u001b[0;36m, line \u001b[0;32m2\u001b[0m\n\u001b[0;31m    def over_budget(budget+food_bill+electricity_bill+internet_bill+rent):\u001b[0m\n\u001b[0m                          ^\u001b[0m\n\u001b[0;31mSyntaxError\u001b[0m\u001b[0;31m:\u001b[0m invalid syntax\n"
     ]
    }
   ],
   "source": [
    "# Write your over_budget function here:\n",
    "def over_budget(budget+food_bill+electricity_bill+internet_bill+rent):\n",
    "  if budget < food_bill+electricity_bill+internet_bill+rent:\n",
    "    return True\n",
    "  else:\n",
    "    return False\n",
    "  \n",
    "# Uncomment these function calls to test your over_budget function:\n",
    "print(over_budget(100, 20, 30, 10, 40))\n",
    "# should print False\n",
    "print(over_budget(80, 20, 30, 10, 30))\n",
    "# should print True"
   ]
  }
 ],
 "metadata": {
  "kernelspec": {
   "display_name": "Python 3",
   "language": "python",
   "name": "python3"
  },
  "language_info": {
   "codemirror_mode": {
    "name": "ipython",
    "version": 3
   },
   "file_extension": ".py",
   "mimetype": "text/x-python",
   "name": "python",
   "nbconvert_exporter": "python",
   "pygments_lexer": "ipython3",
   "version": "3.6.10"
  }
 },
 "nbformat": 4,
 "nbformat_minor": 2
}
