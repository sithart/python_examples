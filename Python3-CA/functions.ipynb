{
 "cells": [
  {
   "cell_type": "code",
   "execution_count": 1,
   "metadata": {},
   "outputs": [
    {
     "name": "stdout",
     "output_type": "stream",
     "text": [
      "Welcome to Sitharthan Super Market.\n",
      "Our special is Imported goods.\n",
      "Have fun shopping!\n"
     ]
    }
   ],
   "source": [
    "\"\"\"\n",
    "Whichever value is put into greet_customer()\n",
    "first is assigned to grocery_store,\n",
    "and whichever value is put in second is assigned to special_item.\n",
    "These are called positional arguments because their assignments depend on \n",
    "their positions in the function call.\n",
    "\"\"\"\n",
    "def greet_customer(grocery_store, special_item):\n",
    "  print(\"Welcome to \"+ grocery_store + \".\")\n",
    "  print(\"Our special is \" + special_item + \".\")\n",
    "  print(\"Have fun shopping!\")\n",
    "\n",
    "greet_customer('Sitharthan Super Market', 'Imported goods')"
   ]
  },
  {
   "cell_type": "code",
   "execution_count": 4,
   "metadata": {},
   "outputs": [
    {
     "name": "stdout",
     "output_type": "stream",
     "text": [
      "60\n"
     ]
    }
   ],
   "source": [
    "# This would cause an error, because\n",
    "# arg1 is a keyword argument but was placed \n",
    "# before arg2, a positional argument.\n",
    "def func(arg1=10, arg2, arg3=30):\n",
    "    return arg1 + arg2 + arg3\n",
    "\n",
    "print(func(20))\n",
    "\n",
    "# All keyword arguments must \n",
    "# follow all the positional arguments, so\n",
    "# this updated function would work.\n",
    "def fixed_func(arg2, arg1=10, arg3=30):\n",
    "    return arg1 + arg2 + arg3\n",
    "\n",
    "print(fixed_func(20)) # This will print 60"
   ]
  },
  {
   "cell_type": "code",
   "execution_count": 6,
   "metadata": {},
   "outputs": [
    {
     "name": "stdout",
     "output_type": "stream",
     "text": [
      "25\n",
      "36\n"
     ]
    }
   ],
   "source": [
    "# Multiple Returns\n",
    "# Method-1\n",
    "def square_point(x_value, y_value):\n",
    "  x_2 = x_value * x_value\n",
    "  y_2 = y_value * y_value\n",
    "  return x_2, y_2\n",
    "square_point(5,6)\n",
    "\n",
    "# Method-2\n",
    "def square_point(x_value, y_value):\n",
    "  x_2 = x_value * x_value\n",
    "  y_2 = y_value * y_value\n",
    "  return x_2, y_2\n",
    "a, b = square_point(5,6)\n",
    "print(a)\n",
    "print(b)"
   ]
  },
  {
   "cell_type": "code",
   "execution_count": 9,
   "metadata": {},
   "outputs": [
    {
     "ename": "NameError",
     "evalue": "name 'special_item' is not defined",
     "output_type": "error",
     "traceback": [
      "\u001b[0;31m---------------------------------------------------------------------------\u001b[0m",
      "\u001b[0;31mNameError\u001b[0m                                 Traceback (most recent call last)",
      "\u001b[0;32m<ipython-input-9-e66f8c33ab30>\u001b[0m in \u001b[0;36m<module>\u001b[0;34m\u001b[0m\n\u001b[1;32m      4\u001b[0m \u001b[0mcreate_special_string\u001b[0m\u001b[0;34m(\u001b[0m\u001b[0;34m'sitharthan'\u001b[0m\u001b[0;34m)\u001b[0m\u001b[0;34m\u001b[0m\u001b[0;34m\u001b[0m\u001b[0m\n\u001b[1;32m      5\u001b[0m \u001b[0;34m\u001b[0m\u001b[0m\n\u001b[0;32m----> 6\u001b[0;31m \u001b[0mprint\u001b[0m\u001b[0;34m(\u001b[0m\u001b[0;34m\"Our special is \"\u001b[0m \u001b[0;34m+\u001b[0m \u001b[0mspecial_item\u001b[0m \u001b[0;34m+\u001b[0m \u001b[0;34m\".\"\u001b[0m\u001b[0;34m)\u001b[0m\u001b[0;34m\u001b[0m\u001b[0;34m\u001b[0m\u001b[0m\n\u001b[0m",
      "\u001b[0;31mNameError\u001b[0m: name 'special_item' is not defined"
     ]
    }
   ],
   "source": [
    "# scope in function\n",
    "def create_special_string(special_item):\n",
    "  return \"Our special is \" + special_item + \".\"\n",
    "create_special_string('sitharthan')\n",
    "\n",
    "print(\"Our special is \" + special_item + \".\")"
   ]
  },
  {
   "cell_type": "code",
   "execution_count": 10,
   "metadata": {},
   "outputs": [
    {
     "name": "stdout",
     "output_type": "stream",
     "text": [
      "Our special is grapes.\n"
     ]
    }
   ],
   "source": [
    "# Global scope\n",
    "header_string = \"Our special is \" \n",
    "\n",
    "def create_special_string(special_item):\n",
    "  return header_string + special_item + \".\"\n",
    "print(create_special_string(\"grapes\"))"
   ]
  },
  {
   "cell_type": "code",
   "execution_count": 11,
   "metadata": {},
   "outputs": [
    {
     "name": "stdout",
     "output_type": "stream",
     "text": [
      "226800\n",
      "The GE train supplies 226800 Newtons of force.\n",
      "A 1kg bomb supplies 90000000000000000 Joules.\n",
      "The GE train does 51438240000 Joules of work over 100 meters.\n"
     ]
    }
   ],
   "source": [
    "# Getting Ready for Physics Class\n",
    "train_mass = 22680\n",
    "train_acceleration = 10\n",
    "train_distance = 100\n",
    "\n",
    "bomb_mass = 1\n",
    "\n",
    "# funtion f to c\n",
    "def f_to_c(f_temp):\n",
    "  c_temp =(f_temp - 32) * 5/9\n",
    "  return c_temp\n",
    "\n",
    "f100_in_celsius = f_to_c(100)\n",
    "\n",
    "# function c to f\n",
    "\n",
    "def c_to_f(c_temp):\n",
    "  f_temp =c_temp  * (9/5) + 32\n",
    "  return f_temp\n",
    "\n",
    "f100_in_celsius = c_to_f(100)\n",
    "\n",
    "# function with a value of 0 Celsius\n",
    "\n",
    "c0_in_fahrenheit = c_to_f(0)\n",
    "\n",
    "\n",
    "# Use the Force\n",
    "\n",
    "def get_force(mass, acceleration):\n",
    "\n",
    "  return mass * acceleration\n",
    "\n",
    "\n",
    "train_force = get_force(train_mass,train_acceleration)\n",
    "print(train_force)\n",
    "print(\"The GE train supplies \" + str(train_force) + \" Newtons of force.\")\n",
    "\n",
    "def get_energy(mass,c = 3*10**8):\n",
    "  return mass * c ** 2\n",
    "\n",
    "bomb_energy = get_energy(bomb_mass)\n",
    "\n",
    "print(\"A 1kg bomb supplies \" + str(bomb_energy) + \" Joules.\")\n",
    "\n",
    "# Do the Work\n",
    "\n",
    "def get_work(mass,acceleration,distance):\n",
    "  force = get_force(mass,acceleration)\n",
    "  return force * force\n",
    "\n",
    "\n",
    "# Train work\n",
    "\n",
    "train_work = get_work(train_mass,train_acceleration,train_distance)\n",
    "\n",
    "print(\"The GE train does \" + str(train_work) + \" Joules of work over \" +str(train_distance)+ \" meters.\")"
   ]
  },
  {
   "cell_type": "code",
   "execution_count": null,
   "metadata": {},
   "outputs": [],
   "source": [
    "# 1. Tenth Power\n",
    "# Write your tenth_power function here:\n",
    "def tenth_power(num):\n",
    "  return num ** 10\n",
    "# Uncomment these function calls to test your tenth_power function:\n",
    "print(tenth_power(1))\n",
    "# 1 to the 10th power is 1\n",
    "print(tenth_power(0))\n",
    "# 0 to the 10th power is 0\n",
    "print(tenth_power(2))\n",
    "# 2 to the 10th power is 1024"
   ]
  },
  {
   "cell_type": "code",
   "execution_count": null,
   "metadata": {},
   "outputs": [],
   "source": [
    "#square Root\n",
    "# Write your square_root function here:\n",
    "def square_root(num):\n",
    "  return num ** 0.5\n",
    "# Uncomment these function calls to test your square_root function:\n",
    "print(square_root(16))\n",
    "# should print 4\n",
    "print(square_root(100))\n",
    "# should print 10"
   ]
  },
  {
   "cell_type": "code",
   "execution_count": null,
   "metadata": {},
   "outputs": [],
   "source": [
    "# Win Percentage\n",
    "# Write your win_percentage function here:\n",
    "def win_percentage(wins, losses):\n",
    "  total = wins + losses\n",
    "  return (wins * 100)/total\n",
    "# Uncomment these function calls to test your win_percentage function:\n",
    "print(win_percentage(5, 5))\n",
    "# should print 50\n",
    "print(win_percentage(10, 0))\n",
    "# should print 100"
   ]
  },
  {
   "cell_type": "code",
   "execution_count": null,
   "metadata": {},
   "outputs": [],
   "source": [
    "# Average\n",
    "# Write your average function here:\n",
    "def average(num1,num2):\n",
    "  average = (num1+num2)/2\n",
    "  return average\n",
    "# Uncomment these function calls to test your average function:\n",
    "print(average(1, 100))\n",
    "# The average of 1 and 100 is 50.5\n",
    "print(average(1, -1))\n",
    "# The average of 1 and -1 is 0"
   ]
  },
  {
   "cell_type": "code",
   "execution_count": null,
   "metadata": {},
   "outputs": [],
   "source": [
    "# Remainder\n",
    "# Write your remainder function here:\n",
    "def remainder(num1,num2):\n",
    "  return (num1 * 2)% (num2/2) \n",
    "# Uncomment these function calls to test your remainder function:\n",
    "print(remainder(15, 14))\n",
    "# should print 2\n",
    "print(remainder(9, 6))\n",
    "# should print 0"
   ]
  },
  {
   "cell_type": "code",
   "execution_count": null,
   "metadata": {},
   "outputs": [],
   "source": [
    "# Advanced Python Code Challenges: Functions\n",
    "# First three multiples\n",
    "# Write your first_three_multiples function here\n",
    "def first_three_multiples(num):\n",
    "  print(num)\n",
    "  print(num*2)\n",
    "  print(num*3)\n",
    "  return num *3\n",
    "\n",
    "# Uncomment these function calls to test your first_three_multiples function:\n",
    "first_three_multiples(10)\n",
    "# should print 10, 20, 30, and return 30\n",
    "first_three_multiples(0)\n",
    "# should print 0, 0, 0, and return 0"
   ]
  },
  {
   "cell_type": "code",
   "execution_count": null,
   "metadata": {},
   "outputs": [],
   "source": [
    "# Tip\n",
    "# Write your tip function here:\n",
    "def tip(total, percentage):\n",
    "  return total * percentage / 100\n",
    "# Uncomment these function calls to test your tip function:\n",
    "print(tip(10, 25))\n",
    "# should print 2.5\n",
    "print(tip(0, 100))\n",
    "# should print 0.0"
   ]
  },
  {
   "cell_type": "code",
   "execution_count": null,
   "metadata": {},
   "outputs": [],
   "source": [
    "# Bond James bond\n",
    "# Write your introduction function here:\n",
    "def introduction(first_name,last_name):\n",
    "  return \"%s, %s %s\" % (last_name, first_name, last_name)\n",
    "  \n",
    "# Uncomment these function calls to test your introduction function:\n",
    "print(introduction(\"James\", \"Bond\"))\n",
    "# should print Bond, James Bond\n",
    "print(introduction(\"Maya\", \"Angelou\"))\n",
    "# should print Angelou, Maya Angelou"
   ]
  },
  {
   "cell_type": "code",
   "execution_count": null,
   "metadata": {},
   "outputs": [],
   "source": [
    "# Dog Years\n",
    "# Write your dog_years function here:\n",
    "def dog_years(name,age):\n",
    "  age = age * 7\n",
    "  return f\"{name}, you are {age} years old in dog years\"\n",
    "  \n",
    "# Uncomment these function calls to test your dog_years function:\n",
    "print(dog_years(\"Lola\", 16))\n",
    "# should print \"Lola, you are 112 years old in dog years\"\n",
    "print(dog_years(\"Baby\", 0))\n",
    "# should print \"Baby, you are 0 years old in dog years\""
   ]
  }
 ],
 "metadata": {
  "kernelspec": {
   "display_name": "Python 3",
   "language": "python",
   "name": "python3"
  },
  "language_info": {
   "codemirror_mode": {
    "name": "ipython",
    "version": 3
   },
   "file_extension": ".py",
   "mimetype": "text/x-python",
   "name": "python",
   "nbconvert_exporter": "python",
   "pygments_lexer": "ipython3",
   "version": "3.6.10"
  }
 },
 "nbformat": 4,
 "nbformat_minor": 2
}
