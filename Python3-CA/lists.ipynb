{
 "cells": [
  {
   "cell_type": "code",
   "execution_count": 1,
   "metadata": {},
   "outputs": [
    {
     "name": "stdout",
     "output_type": "stream",
     "text": [
      "[('Jenny', 'Elphonse'), ('Alexus', 'Dr. Doggy DDS'), ('Sam', 'Carter'), ('Grace', 'Ralph')]\n"
     ]
    }
   ],
   "source": [
    "names = ['Jenny', 'Alexus', 'Sam', 'Grace']\n",
    "dogs_names = ['Elphonse', 'Dr. Doggy DDS', 'Carter', 'Ralph']\n",
    "\n",
    "\n",
    "names_and_dogs_names = zip(names, dogs_names)\n",
    "print(list(names_and_dogs_names))"
   ]
  },
  {
   "cell_type": "code",
   "execution_count": null,
   "metadata": {},
   "outputs": [],
   "source": []
  },
  {
   "cell_type": "code",
   "execution_count": 3,
   "metadata": {},
   "outputs": [
    {
     "name": "stdout",
     "output_type": "stream",
     "text": [
      "[0, 1, 2, 3, 4, 5, 6, 7, 8]\n",
      "[2, 3, 4, 5, 6, 7, 8]\n"
     ]
    }
   ],
   "source": [
    "list1 = range(9)\n",
    "print(list(list1))\n",
    "\n",
    "list1 = range(2,9)\n",
    "print(list(list1))"
   ]
  },
  {
   "cell_type": "code",
   "execution_count": null,
   "metadata": {},
   "outputs": [],
   "source": [
    "# Python Gradebook\n",
    "last_semester_gradebook = [(\"politics\", 80), (\"latin\", 96), (\"dance\", 97), (\"architecture\", 65)]\n",
    "\n",
    "subjects = [\"physics\", \"calculus\", \"poetry\", \"history\"]\n",
    "\n",
    "grades = [98, 97, 85,88]\n",
    "\n",
    "subjects.append('computer science')\n",
    "grades.append(100)\n",
    "subjects.append('visual arts')\n",
    "grades.append(93)\n",
    "gradebook = zip(subjects, grades)\n",
    "\n",
    "print(list(gradebook))\n",
    "\n",
    "full_gradebook = last_semester_gradebook + list(gradebook)\n",
    "print(full_gradebook)\n",
    "\n",
    "\n",
    "\n"
   ]
  },
  {
   "cell_type": "code",
   "execution_count": null,
   "metadata": {},
   "outputs": [],
   "source": [
    "# Operations on Lists\n",
    "\n",
    "# Now that we know how to create a list, we can start working with existing lists of data.\n",
    "\n",
    "# In this lesson, you’ll learn how to:\n",
    "\n",
    "#     Get the length of a list\n",
    "#     Select subsets of a list (called slicing)\n",
    "#     Count the number of times that an element appears in a list\n",
    "#     Sort a list of items\n",
    "\n"
   ]
  }
 ],
 "metadata": {
  "kernelspec": {
   "display_name": "Python 3",
   "language": "python",
   "name": "python3"
  },
  "language_info": {
   "codemirror_mode": {
    "name": "ipython",
    "version": 3
   },
   "file_extension": ".py",
   "mimetype": "text/x-python",
   "name": "python",
   "nbconvert_exporter": "python",
   "pygments_lexer": "ipython3",
   "version": "3.6.10"
  }
 },
 "nbformat": 4,
 "nbformat_minor": 2
}
