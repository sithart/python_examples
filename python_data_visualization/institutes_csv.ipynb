{
 "cells": [
  {
   "cell_type": "code",
   "execution_count": 3,
   "metadata": {},
   "outputs": [
    {
     "name": "stderr",
     "output_type": "stream",
     "text": [
      "/home/sitharth/zeal/lib/python3.6/site-packages/IPython/core/interactiveshell.py:3051: DtypeWarning: Columns (1,3,4,6,7,8) have mixed types.Specify dtype option on import or set low_memory=False.\n",
      "  interactivity=interactivity, compiler=compiler, result=result)\n"
     ]
    },
    {
     "name": "stdout",
     "output_type": "stream",
     "text": [
      "        id apid                                               name federation  \\\n",
      "0  1815695  NaN  CRA–Istituto Sperimentale per la Frutticoltura...        NaN   \n",
      "1  1815696  NaN      Institut National de la Reserche Agronomique.        NaN   \n",
      "2  1815697  NaN                                             IOPRI.        NaN   \n",
      "\n",
      "  acronym                                            address city district  \\\n",
      "0     NaN  CRA–Istituto Sperimentale per la Frutticoltura...  NaN      NaN   \n",
      "1     NaN      Institut National de la Reserche Agronomique.  NaN      NaN   \n",
      "2     NaN                                             IOPRI.  NaN      NaN   \n",
      "\n",
      "  state       country                                               slug  \\\n",
      "0   NaN         Roma.  cra-istituto-sperimentale-per-la-frutticoltura...   \n",
      "1   NaN  Agronomique.       institut-national-de-la-reserche-agronomique   \n",
      "2   NaN        IOPRI.                                              iopri   \n",
      "\n",
      "   created_at  updated_at  \n",
      "0  2019-01-26  2019-01-26  \n",
      "1  2019-01-26  2019-01-26  \n",
      "2  2019-01-26  2019-01-26  \n"
     ]
    }
   ],
   "source": [
    "import pandas as pd\n",
    "import numpy as np\n",
    "import matplotlib.pyplot as plt\n",
    "import seaborn as sns\n",
    "data_url = '/home/sitharth/projects/hub/database/institutes.csv'\n",
    "gapminder = pd.read_csv(data_url)\n",
    "print(gapminder.head(n=3))\n"
   ]
  }
 ],
 "metadata": {
  "kernelspec": {
   "display_name": "Python 3",
   "language": "python",
   "name": "python3"
  },
  "language_info": {
   "codemirror_mode": {
    "name": "ipython",
    "version": 3
   },
   "file_extension": ".py",
   "mimetype": "text/x-python",
   "name": "python",
   "nbconvert_exporter": "python",
   "pygments_lexer": "ipython3",
   "version": "3.6.10"
  }
 },
 "nbformat": 4,
 "nbformat_minor": 2
}
