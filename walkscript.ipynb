{
 "cells": [
  {
   "cell_type": "code",
   "execution_count": 14,
   "metadata": {},
   "outputs": [
    {
     "name": "stdout",
     "output_type": "stream",
     "text": [
      "swift_dir_walk.py\t Last Modified: 2020-06-05 05:08:03\n",
      "maya.py\t Last Modified: 2020-06-02 05:38:28\n",
      "local_directory_genearation.py\t Last Modified: 2020-05-26 06:06:16\n",
      ".gitignore\t Last Modified: 2020-06-04 09:44:26\n",
      "zync.py\t Last Modified: 2020-03-03 07:27:34\n",
      "monitor_patter.py\t Last Modified: 2020-05-21 11:30:52\n",
      "convert_date_time.py\t Last Modified: 2020-06-04 05:13:30\n",
      "krypton.py\t Last Modified: 2020-06-04 09:33:35\n",
      "time_zone.py\t Last Modified: 2020-06-01 05:33:42\n",
      "monitor_swift.py\t Last Modified: 2020-06-05 04:30:59\n",
      "eastern_to_utc.py\t Last Modified: 2020-06-04 05:35:46\n",
      "monitor.py\t Last Modified: 2020-05-21 12:13:09\n",
      "monitor_pattern_matching.py\t Last Modified: 2020-05-22 07:19:42\n",
      "time_stamp.py\t Last Modified: 2020-05-22 08:53:00\n"
     ]
    }
   ],
   "source": [
    "from datetime import datetime\n",
    "from os import scandir\n",
    "\n",
    "def convert_date(timestamp):\n",
    "    d = datetime.utcfromtimestamp(timestamp)\n",
    "    formated_date = d.strftime('%Y-%m-%d %H:%M:%S')\n",
    "    return formated_date\n",
    "\n",
    "def get_files():\n",
    "    dir_entries = scandir('/home/sitharth/projects/zync-cli/src')\n",
    "    for entry in dir_entries:\n",
    "        if entry.is_file():\n",
    "            info = entry.stat()\n",
    "            print(f'{entry.name}\\t Last Modified: {convert_date(info.st_mtime)}')\n",
    "get_files()"
   ]
  },
  {
   "cell_type": "code",
   "execution_count": null,
   "metadata": {},
   "outputs": [],
   "source": []
  }
 ],
 "metadata": {
  "kernelspec": {
   "display_name": "Python 3",
   "language": "python",
   "name": "python3"
  },
  "language_info": {
   "codemirror_mode": {
    "name": "ipython",
    "version": 3
   },
   "file_extension": ".py",
   "mimetype": "text/x-python",
   "name": "python",
   "nbconvert_exporter": "python",
   "pygments_lexer": "ipython3",
   "version": "3.7.7"
  }
 },
 "nbformat": 4,
 "nbformat_minor": 2
}
